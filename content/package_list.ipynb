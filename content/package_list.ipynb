{
  "metadata": {
    "language_info": {
      "file_extension": ".py",
      "mimetype": "text/x-python",
      "name": "python",
      "version": "3.10.2"
    },
    "kernelspec": {
      "name": "xeus-python",
      "display_name": "Python (XPython)",
      "language": "python"
    }
  },
  "nbformat_minor": 4,
  "nbformat": 4,
  "cells": [
    {
      "cell_type": "code",
      "source": "# deprecating message help('modules')",
      "metadata": {
        "trusted": true
      },
      "execution_count": 1,
      "outputs": []
    },
    {
      "cell_type": "code",
      "source": "import site; site.getsitepackages()",
      "metadata": {
        "trusted": true
      },
      "execution_count": 2,
      "outputs": [
        {
          "execution_count": 2,
          "output_type": "execute_result",
          "data": {
            "text/plain": "['/tmp/xeus-python-kernel/envs/xeus-python-kernel/lib/python3.10/site-packages']"
          },
          "metadata": {}
        }
      ]
    },
    {
      "cell_type": "code",
      "source": "import pkg_resources\n{pkg.key for pkg in pkg_resources.working_set}",
      "metadata": {
        "trusted": true
      },
      "execution_count": 3,
      "outputs": [
        {
          "execution_count": 3,
          "output_type": "execute_result",
          "data": {
            "text/plain": "{'altair',\n 'anyio',\n 'appdirs',\n 'asttokens',\n 'attrs',\n 'backcall',\n 'backports.functools-lru-cache',\n 'bleach',\n 'bqplot',\n 'branca',\n 'colorama',\n 'cycler',\n 'decorator',\n 'entrypoints',\n 'executing',\n 'fastjsonschema',\n 'fonttools',\n 'gast',\n 'h11',\n 'h2',\n 'httpcore',\n 'httpx',\n 'hyperframe',\n 'idna',\n 'importlib-metadata',\n 'importlib-resources',\n 'ipycanvas',\n 'ipydatagrid',\n 'ipyleaflet',\n 'ipympl',\n 'ipython',\n 'ipywidgets',\n 'jedi',\n 'jinja2',\n 'joblib',\n 'jsonschema',\n 'jupyterlab-widgets',\n 'markdown',\n 'markupsafe',\n 'matplotlib',\n 'matplotlib-inline',\n 'nbformat',\n 'numpy',\n 'openpyxl',\n 'packaging',\n 'pandas',\n 'panel',\n 'param',\n 'parso',\n 'patsy',\n 'pexpect',\n 'pickleshare',\n 'pil',\n 'pkgutil-resolve-name',\n 'plotnine',\n 'prompt-toolkit',\n 'ptyprocess',\n 'pure-eval',\n 'py2vega',\n 'pygments',\n 'pyparsing',\n 'pyrsistent',\n 'python-dateutil',\n 'pytz',\n 'pyviz-comms',\n 'pyyaml',\n 'requests-wasm-polyfill',\n 'rfc3986',\n 'scikit-learn',\n 'scipy',\n 'seaborn',\n 'six',\n 'sniffio',\n 'stack-data',\n 'statsmodels',\n 'tenacity',\n 'threadpoolctl',\n 'toml',\n 'toolz',\n 'tqdm',\n 'traitlets',\n 'traittypes',\n 'typing-extensions',\n 'tzdata',\n 'vega-datasets',\n 'wcwidth',\n 'xeus-python-shell',\n 'xyzservices',\n 'zipp'}"
          },
          "metadata": {}
        }
      ]
    },
    {
      "cell_type": "code",
      "source": "",
      "metadata": {},
      "execution_count": null,
      "outputs": []
    }
  ]
}