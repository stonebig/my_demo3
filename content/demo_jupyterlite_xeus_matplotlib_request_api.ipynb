{
  "metadata": {
    "kernelspec": {
      "name": "xeus-python",
      "display_name": "Python (XPython)",
      "language": "python"
    },
    "language_info": {
      "file_extension": ".py",
      "mimetype": "text/x-python",
      "name": "python",
      "version": "3.10.2"
    }
  },
  "nbformat_minor": 4,
  "nbformat": 4,
  "cells": [
    {
      "cell_type": "markdown",
      "source": "# experience with   jupyterlite/xeus-python-demo !\n## with following environment.yml\nname: xeus-python-kernel\nchannels:\n  - https://repo.mamba.pm/emscripten-forge\n  - https://repo.mamba.pm/conda-forge\n\ndependencies:\n  - ipycanvas\n  - numpy\n  - matplotlib\n  - seaborn\n  - plotnine\n  - pandas\n  - statsmodels\n  - scikit-learn\n  - scipy\n  - sqlite\n  - bokeh\n  - panel\n  - altair\n  - ipympl\n  - ipyleaflet\n  - ipydatagrid\n  - ipycanvas\n  - vega_datasets\n  - plotly\n  - bqplot\n  - black\n  - pyviz_comms\n  - nbformat\n  - openpyxl\n  - tzdata\n  - httpx",
      "metadata": {}
    },
    {
      "cell_type": "code",
      "source": "%matplotlib widget",
      "metadata": {
        "trusted": true
      },
      "execution_count": null,
      "outputs": []
    },
    {
      "cell_type": "code",
      "source": "\"\"\"\nMatplotlib Minesweeper\n----------------------\nA simple Minesweeper implementation in matplotlib.\nAuthor: Jake Vanderplas <vanderplas@astro.washington.edu>, Dec. 2012\nLicense: BSD\n\"\"\"\nimport numpy as np\nfrom itertools import product\nfrom scipy.signal import convolve2d\nimport matplotlib.pyplot as plt\nfrom matplotlib.patches import RegularPolygon\n\n\nclass MineSweeper(object):\n    covered_color = '#DDDDDD'\n    uncovered_color = '#AAAAAA'\n    edge_color = '#888888'\n    count_colors = ['none', 'blue', 'green', 'red', 'darkblue',\n                    'darkred', 'darkgreen', 'black', 'black']\n    flag_vertices = np.array([[0.25, 0.2], [0.25, 0.8],\n                              [0.75, 0.65], [0.25, 0.5]])\n\n    @classmethod\n    def beginner(cls):\n        return cls(8, 8, 10)\n\n    @classmethod\n    def intermediate(cls):\n        return cls(16, 16, 40)\n\n    @classmethod\n    def expert(cls):\n        return cls(30, 16, 99)\n\n    def __init__(self, width, height, nmines):\n        self.width, self.height, self.nmines = width, height, nmines\n\n        # Create the figure and axes\n        self.fig = plt.figure(figsize=((width + 2) / 3., (height + 2) / 3.))\n        self.ax = self.fig.add_axes((0.05, 0.05, 0.9, 0.9),\n                                    aspect='equal', frameon=False,\n                                    xlim=(-0.05, width + 0.05),\n                                    ylim=(-0.05, height + 0.05))\n        for axis in (self.ax.xaxis, self.ax.yaxis):\n            axis.set_major_formatter(plt.NullFormatter())\n            axis.set_major_locator(plt.NullLocator())\n\n        # Create the grid of squares\n        self.squares = np.array([[RegularPolygon((i + 0.5, j + 0.5),\n                                                 numVertices=4,\n                                                 radius=0.5 * np.sqrt(2),\n                                                 orientation=np.pi / 4,\n                                                 ec=self.edge_color,\n                                                 fc=self.covered_color)\n                                  for j in range(height)]\n                                 for i in range(width)])\n        [self.ax.add_patch(sq) for sq in self.squares.flat]\n\n        # define internal state variables\n        self.mines = None\n        self.counts = None\n        self.clicked = np.zeros((self.width, self.height), dtype=bool)\n        self.flags = np.zeros((self.width, self.height), dtype=object)\n        self.game_over = False\n\n        # Create event hook for mouse clicks\n        self.fig.canvas.mpl_connect('button_press_event', self._button_press)\n\n    def _draw_mine(self, i, j):\n        self.ax.add_patch(plt.Circle((i + 0.5, j + 0.5), radius=0.25,\n                                     ec='black', fc='black'))\n\n    def _draw_red_X(self, i, j):\n        self.ax.text(i + 0.5, j + 0.5, 'X', color='r', fontsize=20,\n                     ha='center', va='center')\n\n    def _toggle_mine_flag(self, i, j):\n        if self.clicked[i, j]:\n            pass\n        elif self.flags[i, j]:\n            self.ax.patches.remove(self.flags[i, j])\n            self.flags[i, j] = None\n        else:\n            self.flags[i, j] = plt.Polygon(self.flag_vertices + [i, j],\n                                            fc='red', ec='black', lw=2)\n            self.ax.add_patch(self.flags[i, j])\n\n    def _reveal_unmarked_mines(self):\n        for (i, j) in zip(*np.where(self.mines & ~self.flags.astype(bool))):\n            self._draw_mine(i, j)\n\n    def _cross_out_wrong_flags(self):\n        for (i, j) in zip(*np.where(~self.mines & self.flags.astype(bool))):\n            self._draw_red_X(i, j)\n\n    def _mark_remaining_mines(self):\n        for (i, j) in zip(*np.where(self.mines & ~self.flags.astype(bool))):\n            self._toggle_mine_flag(i, j)\n\n    def _setup_mines(self, i, j):\n        # randomly place mines on a grid, but not on space (i, j)\n        idx = np.concatenate([np.arange(i * self.height + j),\n                              np.arange(i * self.height + j + 1,\n                                        self.width * self.height)])\n        np.random.shuffle(idx)\n        self.mines = np.zeros((self.width, self.height), dtype=bool)\n        self.mines.flat[idx[:self.nmines]] = 1\n\n        # count the number of mines bordering each square\n        self.counts = convolve2d(self.mines.astype(complex), np.ones((3, 3)),\n                                 mode='same').real.astype(int)\n\n    def _click_square(self, i, j):\n        # if this is the first click, then set up the mines\n        if self.mines is None:\n            self._setup_mines(i, j)\n\n        # if there is a flag or square is already clicked, do nothing\n        if self.flags[i, j] or self.clicked[i, j]:\n            return\n        self.clicked[i, j] = True\n\n        # hit a mine: game over\n        if self.mines[i, j]:\n            self.game_over = True\n            self._reveal_unmarked_mines()\n            self._draw_red_X(i, j)\n            self._cross_out_wrong_flags()\n\n        # square with no surrounding mines: clear out all adjacent squares\n        elif self.counts[i, j] == 0:\n            self.squares[i, j].set_facecolor(self.uncovered_color)\n            for ii in range(max(0, i - 1), min(self.width, i + 2)):\n                for jj in range(max(0, j - 1), min(self.height, j + 2)):\n                    self._click_square(ii, jj)\n\n        # hit an empty square: reveal the number\n        else:\n            self.squares[i, j].set_facecolor(self.uncovered_color)\n            self.ax.text(i + 0.5, j + 0.5, str(self.counts[i, j]),\n                         color=self.count_colors[self.counts[i, j]],\n                         ha='center', va='center', fontsize=18,\n                         fontweight='bold')\n\n        # if all remaining squares are mines, mark them and end game\n        if self.mines.sum() == (~self.clicked).sum():\n            self.game_over = True\n            self._mark_remaining_mines()\n\n    def _button_press(self, event):\n        if self.game_over or (event.xdata is None) or (event.ydata is None):\n            return\n        i, j = map(int, (event.xdata, event.ydata))\n        if (i < 0 or j < 0 or i >= self.width or j >= self.height):\n            return\n\n        # left mouse button: reveal square.  If the square is already clicked\n        # and the correct # of mines are marked, then clear surroundig squares\n        if event.button == 1:\n            if (self.clicked[i, j]):\n                flag_count = self.flags[max(0, i - 1):i + 2,\n                                        max(0, j - 1):j + 2].astype(bool).sum()\n                if self.counts[i, j] == flag_count:\n                    for ii, jj in product(range(max(0, i - 1),\n                                                min(self.width, i + 2)),\n                                          range(max(0, j - 1),\n                                                min(self.height, j + 2))):\n                        self._click_square(ii, jj)\n            else:\n                self._click_square(i, j)\n\n        # right mouse button: mark/unmark flag\n        elif (event.button == 3) and (not self.clicked[i, j]):\n            self._toggle_mine_flag(i, j)\n\n        self.fig.canvas.draw()\n\n\nif __name__ == '__main__':\n    ms = MineSweeper.intermediate()\n    plt.show()",
      "metadata": {
        "trusted": true
      },
      "execution_count": null,
      "outputs": []
    },
    {
      "cell_type": "code",
      "source": "# requests works in  jupyterlite/xeus-python-demo !\nimport requests\nfrom datetime import date, timedelta, datetime\n\ntoday = date.today()\nyesterday = today - timedelta(days=10)\ncountry =  \"germany\"\nendpoint = f\"https://api.covid19api.com/country/{country}/status/confirmed\"\nparams = {\"from\": str(yesterday), \"to\": str(today)}\nprint(params)\nendpoint_via_browser = f\"https://api.covid19api.com/country/germany/status/confirmed?from=2022-12-06&to=2022-12-22\"\n\nresponse = requests.get(endpoint, params=params).json()\ntotal_confirmed = 0\nfor day in response:\n    date_python = datetime.fromisoformat(day.get(\"Date\", 0)[:-1] + '+00:00')\n    print(date_python.strftime('%Y-%m-%d'), f'{day.get(\"Cases\", 0):_.0f}')\n    cases = day.get(\"Cases\", 0)\n    total_confirmed += cases\n\nprint(f\"Total Confirmed Covid-19 cases in {country}: {total_confirmed:_.0f}\")\n\n# result is : [{\"Country\":\"Germany\",\"CountryCode\":\"DE\",\"Province\":\"\",\"City\":\"\",\"CityCode\":\"\",\"Lat\":\"51.17\",\"Lon\":\"10.45\",\"Cases\":36649979,\"Status\":\"confirmed\",\"Date\":\"2022-12-06T00:00:00Z\"},{\"Country\":\"Germany\",\"CountryCode\":\"DE\",\"Province\":\"\",\"City\":\"\",\"CityCode\":\"\",\"Lat\":\"51.17\",\"Lon\":\"10.45\",\"Cases\":36690235,\"Status\":\"confirmed\",\"Date\":\"2022-12-07T00:00:00Z\"},{\"Country\":\"Germany\",\"CountryCode\":\"DE\",\"Province\":\"\",\"City\":\"\",\"CityCode\":\"\",\"Lat\":\"51.17\",\"Lon\":\"10.45\",\"Cases\":36726061,\"Status\":\"confirmed\",\"Date\":\"2022-12-08T00:00:00Z\"},{\"Country\":\"Germany\",\"CountryCode\":\"DE\",\"Province\":\"\",\"City\":\"\",\"CityCode\":\"\",\"Lat\":\"51.17\",\"Lon\":\"10.45\",\"Cases\":36755666,\"Status\":\"confirmed\",\"Date\":\"2022-12-09T00:00:00Z\"},{\"Country\":\"Germany\",\"CountryCode\":\"DE\",\"Province\":\"\",\"City\":\"\",\"CityCode\":\"\",\"Lat\":\"51.17\",\"Lon\":\"10.45\",\"Cases\":36755666,\"Status\":\"confirmed\",\"Date\":\"2022-12-10T00:00:00Z\"},{\"Country\":\"Germany\",\"CountryCode\":\"DE\",\"Province\":\"\",\"City\":\"\",\"CityCode\":\"\",\"Lat\":\"51.17\",\"Lon\":\"10.45\",\"Cases\":36755666,\"Status\":\"confirmed\",\"Date\":\"2022-12-11T00:00:00Z\"},{\"Country\":\"Germany\",\"CountryCode\":\"DE\",\"Province\":\"\",\"City\":\"\",\"CityCode\":\"\",\"Lat\":\"51.17\",\"Lon\":\"10.45\",\"Cases\":36812671,\"Status\":\"confirmed\",\"Date\":\"2022-12-12T00:00:00Z\"},{\"Country\":\"Germany\",\"CountryCode\":\"DE\",\"Province\":\"\",\"City\":\"\",\"CityCode\":\"\",\"Lat\":\"51.17\",\"Lon\":\"10.45\",\"Cases\":36859058,\"Status\":\"confirmed\",\"Date\":\"2022-12-13T00:00:00Z\"},{\"Country\":\"Germany\",\"CountryCode\":\"DE\",\"Province\":\"\",\"City\":\"\",\"CityCode\":\"\",\"Lat\":\"51.17\",\"Lon\":\"10.45\",\"Cases\":36905873,\"Status\":\"confirmed\",\"Date\":\"2022-12-14T00:00:00Z\"},{\"Country\":\"Germany\",\"CountryCode\":\"DE\",\"Province\":\"\",\"City\":\"\",\"CityCode\":\"\",\"Lat\":\"51.17\",\"Lon\":\"10.45\",\"Cases\":36946574,\"Status\":\"confirmed\",\"Date\":\"2022-12-15T00:00:00Z\"},{\"Country\":\"Germany\",\"CountryCode\":\"DE\",\"Province\":\"\",\"City\":\"\",\"CityCode\":\"\",\"Lat\":\"51.17\",\"Lon\":\"10.45\",\"Cases\":36980882,\"Status\":\"confirmed\",\"Date\":\"2022-12-16T00:00:00Z\"},{\"Country\":\"Germany\",\"CountryCode\":\"DE\",\"Province\":\"\",\"City\":\"\",\"CityCode\":\"\",\"Lat\":\"51.17\",\"Lon\":\"10.45\",\"Cases\":36980882,\"Status\":\"confirmed\",\"Date\":\"2022-12-17T00:00:00Z\"},{\"Country\":\"Germany\",\"CountryCode\":\"DE\",\"Province\":\"\",\"City\":\"\",\"CityCode\":\"\",\"Lat\":\"51.17\",\"Lon\":\"10.45\",\"Cases\":36980883,\"Status\":\"confirmed\",\"Date\":\"2022-12-18T00:00:00Z\"},{\"Country\":\"Germany\",\"CountryCode\":\"DE\",\"Province\":\"\",\"City\":\"\",\"CityCode\":\"\",\"Lat\":\"51.17\",\"Lon\":\"10.45\",\"Cases\":37035898,\"Status\":\"confirmed\",\"Date\":\"2022-12-19T00:00:00Z\"},{\"Country\":\"Germany\",\"CountryCode\":\"DE\",\"Province\":\"\",\"City\":\"\",\"CityCode\":\"\",\"Lat\":\"51.17\",\"Lon\":\"10.45\",\"Cases\":37088426,\"Status\":\"confirmed\",\"Date\":\"2022-12-20T00:00:00Z\"},{\"Country\":\"Germany\",\"CountryCode\":\"DE\",\"Province\":\"\",\"City\":\"\",\"CityCode\":\"\",\"Lat\":\"51.17\",\"Lon\":\"10.45\",\"Cases\":37136414,\"Status\":\"confirmed\",\"Date\":\"2022-12-21T00:00:00Z\"},{\"Country\":\"Germany\",\"CountryCode\":\"DE\",\"Province\":\"\",\"City\":\"\",\"CityCode\":\"\",\"Lat\":\"51.17\",\"Lon\":\"10.45\",\"Cases\":37177845,\"Status\":\"confirmed\",\"Date\":\"2022-12-22T00:00:00Z\"}]\n",
      "metadata": {
        "trusted": true
      },
      "execution_count": null,
      "outputs": []
    },
    {
      "cell_type": "code",
      "source": "# check modules that made it to jupyuterlite\nhelp('modules')",
      "metadata": {
        "trusted": true
      },
      "execution_count": null,
      "outputs": []
    },
    {
      "cell_type": "code",
      "source": "",
      "metadata": {},
      "execution_count": null,
      "outputs": []
    },
    {
      "cell_type": "code",
      "source": "",
      "metadata": {},
      "execution_count": null,
      "outputs": []
    }
  ]
}